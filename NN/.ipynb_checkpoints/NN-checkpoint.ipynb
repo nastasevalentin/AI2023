{
 "cells": [
  {
   "cell_type": "code",
   "execution_count": 1,
   "id": "initial_id",
   "metadata": {
    "is_executing": true
   },
   "outputs": [],
   "source": [
    "import numpy as  np\n",
    "import pandas as pd\n",
    "from matplotlib import pyplot as plt"
   ]
  },
  {
   "cell_type": "code",
   "execution_count": 2,
   "id": "f417d826e003ee4",
   "metadata": {
    "collapsed": false,
    "jupyter": {
     "outputs_hidden": false
    }
   },
   "outputs": [],
   "source": [
    "data = pd.read_csv('~/Desktop/facultate/seeds_dataset.txt', delimiter='\\t')"
   ]
  },
  {
   "cell_type": "code",
   "execution_count": 3,
   "id": "8f0d73ca-16a8-406b-99ac-bba3cc21a84c",
   "metadata": {
    "scrolled": true
   },
   "outputs": [
    {
     "data": {
      "text/html": [
       "<div>\n",
       "<style scoped>\n",
       "    .dataframe tbody tr th:only-of-type {\n",
       "        vertical-align: middle;\n",
       "    }\n",
       "\n",
       "    .dataframe tbody tr th {\n",
       "        vertical-align: top;\n",
       "    }\n",
       "\n",
       "    .dataframe thead th {\n",
       "        text-align: right;\n",
       "    }\n",
       "</style>\n",
       "<table border=\"1\" class=\"dataframe\">\n",
       "  <thead>\n",
       "    <tr style=\"text-align: right;\">\n",
       "      <th></th>\n",
       "      <th>p1</th>\n",
       "      <th>p2</th>\n",
       "      <th>p3</th>\n",
       "      <th>p4</th>\n",
       "      <th>p5</th>\n",
       "      <th>p6</th>\n",
       "      <th>p7</th>\n",
       "      <th>label</th>\n",
       "    </tr>\n",
       "  </thead>\n",
       "  <tbody>\n",
       "    <tr>\n",
       "      <th>0</th>\n",
       "      <td>15.26</td>\n",
       "      <td>14.84</td>\n",
       "      <td>0.8710</td>\n",
       "      <td>5.763</td>\n",
       "      <td>3.312</td>\n",
       "      <td>2.221</td>\n",
       "      <td>5.220</td>\n",
       "      <td>1</td>\n",
       "    </tr>\n",
       "    <tr>\n",
       "      <th>1</th>\n",
       "      <td>14.88</td>\n",
       "      <td>14.57</td>\n",
       "      <td>0.8811</td>\n",
       "      <td>5.554</td>\n",
       "      <td>3.333</td>\n",
       "      <td>1.018</td>\n",
       "      <td>4.956</td>\n",
       "      <td>1</td>\n",
       "    </tr>\n",
       "    <tr>\n",
       "      <th>2</th>\n",
       "      <td>14.29</td>\n",
       "      <td>14.09</td>\n",
       "      <td>0.9050</td>\n",
       "      <td>5.291</td>\n",
       "      <td>3.337</td>\n",
       "      <td>2.699</td>\n",
       "      <td>4.825</td>\n",
       "      <td>1</td>\n",
       "    </tr>\n",
       "    <tr>\n",
       "      <th>3</th>\n",
       "      <td>13.84</td>\n",
       "      <td>13.94</td>\n",
       "      <td>0.8955</td>\n",
       "      <td>5.324</td>\n",
       "      <td>3.379</td>\n",
       "      <td>2.259</td>\n",
       "      <td>4.805</td>\n",
       "      <td>1</td>\n",
       "    </tr>\n",
       "    <tr>\n",
       "      <th>4</th>\n",
       "      <td>16.14</td>\n",
       "      <td>14.99</td>\n",
       "      <td>0.9034</td>\n",
       "      <td>5.658</td>\n",
       "      <td>3.562</td>\n",
       "      <td>1.355</td>\n",
       "      <td>5.175</td>\n",
       "      <td>1</td>\n",
       "    </tr>\n",
       "  </tbody>\n",
       "</table>\n",
       "</div>"
      ],
      "text/plain": [
       "      p1     p2      p3     p4     p5     p6     p7  label\n",
       "0  15.26  14.84  0.8710  5.763  3.312  2.221  5.220      1\n",
       "1  14.88  14.57  0.8811  5.554  3.333  1.018  4.956      1\n",
       "2  14.29  14.09  0.9050  5.291  3.337  2.699  4.825      1\n",
       "3  13.84  13.94  0.8955  5.324  3.379  2.259  4.805      1\n",
       "4  16.14  14.99  0.9034  5.658  3.562  1.355  5.175      1"
      ]
     },
     "execution_count": 3,
     "metadata": {},
     "output_type": "execute_result"
    }
   ],
   "source": [
    "data.head()\n"
   ]
  },
  {
   "cell_type": "code",
   "execution_count": 4,
   "id": "92cfca63-96c6-41d5-b733-ffec3e218b26",
   "metadata": {},
   "outputs": [],
   "source": [
    "data = np.array(data)"
   ]
  },
  {
   "cell_type": "code",
   "execution_count": 5,
   "id": "d81c2384-a0db-4c10-ad4f-05d961c5fc8e",
   "metadata": {},
   "outputs": [],
   "source": [
    "m, n = data.shape\n",
    "np.random.shuffle(data)\n",
    "\n",
    "data_test = data[0:40].T\n",
    "Y_test = data_test[-1]\n",
    "X_test = data_test[:-1]\n",
    "\n",
    "data_train = data[40:m].T\n",
    "Y_train = data_train[-1]\n",
    "X_train = data_train[:-1]\n",
    "\n"
   ]
  },
  {
   "cell_type": "code",
   "execution_count": 6,
   "id": "00665a6a-ad89-4308-a410-36f7642e795b",
   "metadata": {},
   "outputs": [
    {
     "data": {
      "text/plain": [
       "(7,)"
      ]
     },
     "execution_count": 6,
     "metadata": {},
     "output_type": "execute_result"
    }
   ],
   "source": [
    "X_train[:, 0].shape"
   ]
  },
  {
   "cell_type": "code",
   "execution_count": 7,
   "id": "e390838d-9e6e-4e1f-8808-e417c21bf9f8",
   "metadata": {},
   "outputs": [
    {
     "data": {
      "text/plain": [
       "array([2., 1., 2., 1., 2., 2., 3., 2., 2., 1., 2., 1., 3., 2., 1., 2., 3.,\n",
       "       1., 2., 2., 1., 3., 2., 1., 1., 2., 3., 3., 3., 2., 2., 1., 2., 1.,\n",
       "       2., 3., 1., 1., 3., 3., 1., 3., 1., 2., 1., 3., 1., 1., 1., 2., 2.,\n",
       "       3., 3., 2., 1., 1., 2., 2., 1., 1., 3., 2., 3., 3., 3., 3., 1., 2.,\n",
       "       1., 1., 3., 1., 3., 2., 2., 2., 3., 2., 1., 1., 2., 2., 3., 1., 2.,\n",
       "       1., 1., 2., 3., 2., 3., 2., 3., 2., 2., 2., 2., 1., 3., 3., 1., 3.,\n",
       "       2., 1., 3., 1., 2., 1., 3., 3., 3., 1., 1., 3., 3., 2., 2., 1., 3.,\n",
       "       2., 2., 2., 3., 3., 1., 3., 3., 3., 3., 2., 1., 3., 3., 2., 2., 3.,\n",
       "       2., 3., 2., 3., 3., 1., 2., 2., 1., 3., 2., 2., 3., 3., 1., 1., 1.,\n",
       "       1., 2., 1., 3., 1., 2., 1., 2., 3., 2., 2., 1., 1., 3., 1., 1., 1.])"
      ]
     },
     "execution_count": 7,
     "metadata": {},
     "output_type": "execute_result"
    }
   ],
   "source": [
    "Y_train"
   ]
  },
  {
   "cell_type": "code",
   "execution_count": 8,
   "id": "7d421d1d-88ea-47ee-bdee-58f820197b3e",
   "metadata": {},
   "outputs": [],
   "source": [
    "def init_params():\n",
    "    W1 = np.random.randn(5, 7)\n",
    "    b1 = np.zeros((5, 1))\n",
    "    W2 = np.random.rand(3, 5)\n",
    "    b2 = np.zeros((3, 1))\n",
    "    return W1, b1, W2, b2"
   ]
  },
  {
   "cell_type": "markdown",
   "id": "65a8e018-e589-48db-af62-20523f8be7e8",
   "metadata": {},
   "source": [
    "#### "
   ]
  },
  {
   "cell_type": "code",
   "execution_count": 9,
   "id": "21dd89bc-f5de-46bb-bb3f-17cbdc54a144",
   "metadata": {},
   "outputs": [],
   "source": [
    "def ReLU(Z):\n",
    "    return np.maximum(Z, 0)\n",
    "\n",
    "def softmax(Z):\n",
    "    A = np.exp(Z) / sum(np.exp(Z))\n",
    "    return A\n",
    "\n",
    "def forward_prop(W1, b1, W2, b2, X):\n",
    "    Z1 = W1.dot(X) + b1\n",
    "    A1 = ReLU(Z1)\n",
    "    Z2 = W2.dot(A1) + b2\n",
    "    A2 = softmax(Z2)\n",
    "    \n",
    "    return Z1, A1, Z2, A2\n",
    "\n",
    "def ReLU_deriv(Z):\n",
    "    return Z > 0\n",
    "\n",
    "def softmax_cross_entropy_loss(A2, Y):\n",
    "    m = Y.shape[1]\n",
    "    logprobs = -np.log(A2[Y, range(m)])\n",
    "    loss = np.sum(logprobs) / m\n",
    "    return loss\n"
   ]
  },
  {
   "cell_type": "code",
   "execution_count": null,
   "id": "60b5f589-e137-42e6-afd5-dc37bdcb6056",
   "metadata": {},
   "outputs": [],
   "source": []
  }
 ],
 "metadata": {
  "kernelspec": {
   "display_name": "Python 3 (ipykernel)",
   "language": "python",
   "name": "python3"
  },
  "language_info": {
   "codemirror_mode": {
    "name": "ipython",
    "version": 3
   },
   "file_extension": ".py",
   "mimetype": "text/x-python",
   "name": "python",
   "nbconvert_exporter": "python",
   "pygments_lexer": "ipython3",
   "version": "3.9.17"
  }
 },
 "nbformat": 4,
 "nbformat_minor": 5
}
